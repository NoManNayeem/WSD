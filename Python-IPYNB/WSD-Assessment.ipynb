{
 "cells": [
  {
   "cell_type": "markdown",
   "id": "e112f07c",
   "metadata": {},
   "source": [
    "# Data Extraction"
   ]
  },
  {
   "cell_type": "markdown",
   "id": "82892fe9",
   "metadata": {},
   "source": [
    "Load JSON Data"
   ]
  },
  {
   "cell_type": "code",
   "execution_count": 1,
   "id": "e5bf5f1d",
   "metadata": {},
   "outputs": [],
   "source": [
    "# !pip install pandas"
   ]
  },
  {
   "cell_type": "code",
   "execution_count": 2,
   "id": "1fa8d81f",
   "metadata": {},
   "outputs": [
    {
     "name": "stdout",
     "output_type": "stream",
     "text": [
      "The JSON data is a dictionary. Here are its keys:\n",
      "['products']\n"
     ]
    }
   ],
   "source": [
    "import json\n",
    "\n",
    "# Load the JSON file\n",
    "with open('../data/trades 1.json', 'r') as json_file:\n",
    "    trade_data = json.load(json_file)\n",
    "\n",
    "\n",
    "# Check if trade_data is a dictionary and print its keys or a specific part\n",
    "if isinstance(trade_data, dict):\n",
    "    print(\"The JSON data is a dictionary. Here are its keys:\")\n",
    "    print(list(trade_data.keys()))\n",
    "    # Optionally, print a part of the dictionary if you know the key names\n",
    "    # Example: print(json.dumps(trade_data['a_specific_key'], indent=2))\n",
    "elif isinstance(trade_data, list):\n",
    "    # If trade_data is a list, safely print the first few elements\n",
    "    print(json.dumps(trade_data[:2], indent=2))\n",
    "else:\n",
    "    print(\"The loaded JSON data is neither a list nor a dictionary.\")"
   ]
  },
  {
   "cell_type": "code",
   "execution_count": 3,
   "id": "13883e2e",
   "metadata": {},
   "outputs": [
    {
     "name": "stdout",
     "output_type": "stream",
     "text": [
      "[\n",
      "  {\n",
      "    \"productCode\": \"WSD1084623\",\n",
      "    \"couponRate\": 5,\n",
      "    \"couponFrequency\": \"annual\",\n",
      "    \"couponType\": \"conditional\",\n",
      "    \"upsideStyle\": \"par\",\n",
      "    \"downsideStyle\": \"vanillaPut\",\n",
      "    \"putStrike\": 80\n",
      "  },\n",
      "  {\n",
      "    \"productCode\": \"WSD19837233\",\n",
      "    \"couponRate\": 6,\n",
      "    \"autocall\": \"no\",\n",
      "    \"issuerCall\": \"no\",\n",
      "    \"couponFrequency\": \"monthly\",\n",
      "    \"couponType\": \"conditional\",\n",
      "    \"upsideStyle\": \"par\",\n",
      "    \"downsideStyle\": \"vanillaPut\",\n",
      "    \"putStrike\": 75\n",
      "  }\n",
      "]\n"
     ]
    }
   ],
   "source": [
    "# Access the product data\n",
    "product_data = trade_data['products']\n",
    "# Print the structure of the first few products\n",
    "print(json.dumps(product_data[:2], indent=2))"
   ]
  },
  {
   "cell_type": "markdown",
   "id": "66e2f986",
   "metadata": {},
   "source": [
    "Load CSV Data"
   ]
  },
  {
   "cell_type": "code",
   "execution_count": 4,
   "id": "92d3c6b4",
   "metadata": {},
   "outputs": [
    {
     "name": "stdout",
     "output_type": "stream",
     "text": [
      "           ISIN     type\n",
      "0    WSD1084623  phoenix\n",
      "1   WSD19837233  phoenix\n",
      "2   WSD86345633  phoenix\n",
      "3   WSD56734563   revcon\n",
      "4  WSD348570345  phoenix\n"
     ]
    }
   ],
   "source": [
    "import pandas as pd\n",
    "\n",
    "# Load the Excel file\n",
    "category_data = pd.read_excel('../data/categories 1.xlsx')\n",
    "\n",
    "# Explore the data (print the first few rows to understand its structure)\n",
    "print(category_data.head())\n"
   ]
  },
  {
   "cell_type": "markdown",
   "id": "3632de8a",
   "metadata": {},
   "source": [
    "# Convert JSON Product Data into a DataFrame"
   ]
  },
  {
   "cell_type": "code",
   "execution_count": 5,
   "id": "a43ee418",
   "metadata": {},
   "outputs": [
    {
     "name": "stdout",
     "output_type": "stream",
     "text": [
      "    productCode  couponRate couponFrequency   couponType upsideStyle  \\\n",
      "0    WSD1084623         5.0          annual  conditional         par   \n",
      "1   WSD19837233         6.0         monthly  conditional         par   \n",
      "2   WSD86345633         4.5       quarterly  conditional         par   \n",
      "3   WSD56734563         5.4       quarterly   guaranteed         par   \n",
      "4  WSD348570345         6.0          annual  conditional         par   \n",
      "\n",
      "  downsideStyle  putStrike autocall issuerCall  digitalCoupon  kiBarrier  \n",
      "0    vanillaPut         80      NaN        NaN            NaN        NaN  \n",
      "1    vanillaPut         75       no         no            NaN        NaN  \n",
      "2    vanillaPut        100       no         no            NaN        NaN  \n",
      "3    vanillaPut         90      NaN        yes            NaN        NaN  \n",
      "4    vanillaPut         80      yes        NaN            NaN        NaN  \n"
     ]
    }
   ],
   "source": [
    "products_df = pd.DataFrame(product_data)\n",
    "print(products_df.head())"
   ]
  },
  {
   "cell_type": "markdown",
   "id": "489fecc5",
   "metadata": {},
   "source": [
    "# Merge DataFrames"
   ]
  },
  {
   "cell_type": "code",
   "execution_count": 6,
   "id": "6138239e",
   "metadata": {},
   "outputs": [
    {
     "name": "stdout",
     "output_type": "stream",
     "text": [
      "   productCode  couponRate couponFrequency   couponType upsideStyle  \\\n",
      "0   WSD1084623         5.0          annual  conditional         par   \n",
      "1   WSD1084623         5.0          annual  conditional         par   \n",
      "2   WSD1084623         7.9          annual   guaranteed         par   \n",
      "3   WSD1084623         7.9          annual   guaranteed         par   \n",
      "4  WSD19837233         6.0         monthly  conditional         par   \n",
      "\n",
      "  downsideStyle  putStrike autocall issuerCall  digitalCoupon  kiBarrier  \\\n",
      "0    vanillaPut         80      NaN        NaN            NaN        NaN   \n",
      "1    vanillaPut         80      NaN        NaN            NaN        NaN   \n",
      "2    vanillaPut         70      yes        NaN            NaN        NaN   \n",
      "3    vanillaPut         70      yes        NaN            NaN        NaN   \n",
      "4    vanillaPut         75       no         no            NaN        NaN   \n",
      "\n",
      "          ISIN     type  \n",
      "0   WSD1084623  phoenix  \n",
      "1   WSD1084623   revcon  \n",
      "2   WSD1084623  phoenix  \n",
      "3   WSD1084623   revcon  \n",
      "4  WSD19837233  phoenix  \n"
     ]
    }
   ],
   "source": [
    "final_dataset = pd.merge(products_df, category_data, left_on='productCode', right_on='ISIN', how='inner')\n",
    "\n",
    "print(final_dataset.head())"
   ]
  },
  {
   "cell_type": "markdown",
   "id": "f50f2fd9",
   "metadata": {},
   "source": [
    "# Dialogue Creation Function"
   ]
  },
  {
   "cell_type": "code",
   "execution_count": 7,
   "id": "75ca1b74",
   "metadata": {},
   "outputs": [],
   "source": [
    "def create_dialogue(row):\n",
    "    # Simulate a user describing a product\n",
    "    user_message = f\"I'm interested in a product with these features: rate {row['couponRate']}, frequency {row['couponFrequency']}, type {row['couponType']}, and style {row['upsideStyle']}. What category does it belong to?\"\n",
    "\n",
    "    # Simulate the bot response with the product category\n",
    "    bot_message = f\"This product falls under the '{row['type']}' category.\"\n",
    "\n",
    "    return {\"user\": user_message, \"bot\": bot_message}\n"
   ]
  },
  {
   "cell_type": "markdown",
   "id": "74b7e17d",
   "metadata": {},
   "source": [
    "# Apply the Function to Each Row in the Dataset"
   ]
  },
  {
   "cell_type": "code",
   "execution_count": 8,
   "id": "fef39e40",
   "metadata": {},
   "outputs": [
    {
     "name": "stdout",
     "output_type": "stream",
     "text": [
      "User: I'm interested in a product with these features: rate 5.0, frequency annual, type conditional, and style par. What category does it belong to?\n",
      "Bot: This product falls under the 'phoenix' category.\n",
      "---\n",
      "User: I'm interested in a product with these features: rate 5.0, frequency annual, type conditional, and style par. What category does it belong to?\n",
      "Bot: This product falls under the 'revcon' category.\n",
      "---\n",
      "User: I'm interested in a product with these features: rate 7.9, frequency annual, type guaranteed, and style par. What category does it belong to?\n",
      "Bot: This product falls under the 'phoenix' category.\n",
      "---\n",
      "User: I'm interested in a product with these features: rate 7.9, frequency annual, type guaranteed, and style par. What category does it belong to?\n",
      "Bot: This product falls under the 'revcon' category.\n",
      "---\n",
      "User: I'm interested in a product with these features: rate 6.0, frequency monthly, type conditional, and style par. What category does it belong to?\n",
      "Bot: This product falls under the 'phoenix' category.\n",
      "---\n"
     ]
    }
   ],
   "source": [
    "# Generate dialogues\n",
    "dialogues = [create_dialogue(row) for _, row in final_dataset.iterrows()]\n",
    "\n",
    "# Print some examples to verify\n",
    "for dialogue in dialogues[:5]:\n",
    "    print(\"User:\", dialogue[\"user\"])\n",
    "    print(\"Bot:\", dialogue[\"bot\"])\n",
    "    print(\"---\")\n"
   ]
  },
  {
   "cell_type": "code",
   "execution_count": 9,
   "id": "b63f9526",
   "metadata": {},
   "outputs": [
    {
     "name": "stdout",
     "output_type": "stream",
     "text": [
      "Dialogues have been saved to training_data.json.\n"
     ]
    }
   ],
   "source": [
    "# Save the Dialogues to a File (Optional)\n",
    "import json\n",
    "\n",
    "# Save dialogues to a JSON file\n",
    "with open('../data/training_data.json', 'w') as file:\n",
    "    json.dump(dialogues, file, indent=4)\n",
    "\n",
    "print(\"Dialogues have been saved to training_data.json.\")\n"
   ]
  },
  {
   "cell_type": "code",
   "execution_count": null,
   "id": "10f4c97f",
   "metadata": {},
   "outputs": [],
   "source": []
  },
  {
   "cell_type": "markdown",
   "id": "7e6342fd",
   "metadata": {},
   "source": [
    "# Bonus Features"
   ]
  },
  {
   "cell_type": "markdown",
   "id": "b97a33d5",
   "metadata": {},
   "source": [
    "# Variability in User Requests"
   ]
  },
  {
   "cell_type": "code",
   "execution_count": 10,
   "id": "419e8045",
   "metadata": {},
   "outputs": [],
   "source": [
    "import random\n",
    "\n",
    "# Example of synonyms for product features\n",
    "feature_variations = {\n",
    "    \"couponRate\": [\"interest rate\", \"coupon rate\", \"rate\"],\n",
    "    \"couponFrequency\": [\"payment frequency\", \"coupon frequency\", \"frequency\"],\n",
    "    # Add more features and their variations here\n",
    "}\n",
    "\n",
    "def choose_variation(feature):\n",
    "    return random.choice(feature_variations.get(feature, [feature]))\n"
   ]
  },
  {
   "cell_type": "markdown",
   "id": "83abba08",
   "metadata": {},
   "source": [
    "# Dynamic Product Naming"
   ]
  },
  {
   "cell_type": "code",
   "execution_count": 11,
   "id": "88887b83",
   "metadata": {},
   "outputs": [],
   "source": [
    "def dynamic_product_name(row):\n",
    "    prefix = \"\"\n",
    "    if row.get('autocall') == 'yes':\n",
    "        prefix += \"Autocallable \"\n",
    "    elif row.get('issuerCall') == 'yes':\n",
    "        prefix += \"Issuer Callable \"\n",
    "    return prefix + \"Product\"\n"
   ]
  },
  {
   "cell_type": "markdown",
   "id": "6251a793",
   "metadata": {},
   "source": [
    "# Follow-Up Questions"
   ]
  },
  {
   "cell_type": "code",
   "execution_count": 12,
   "id": "71badb56",
   "metadata": {},
   "outputs": [],
   "source": [
    "essential_features = ['couponRate', 'couponFrequency', 'couponType', 'upsideStyle']\n"
   ]
  },
  {
   "cell_type": "code",
   "execution_count": 13,
   "id": "241191cb",
   "metadata": {},
   "outputs": [],
   "source": [
    "def create_dialogue_with_followups(row):\n",
    "    missing_features = [feature for feature in essential_features if pd.isnull(row[feature]) or row[feature] == '']\n",
    "    if missing_features:\n",
    "        # Generate a follow-up question for the first missing feature\n",
    "        followup = f\"Could you provide more details on the {missing_features[0]}?\"\n",
    "        return {\n",
    "            \"user\": \"I'm looking for a product but don't have all the details.\",\n",
    "            \"bot\": followup\n",
    "        }\n",
    "    else:\n",
    "        # Proceed with normal dialogue if no essential features are missing\n",
    "        return {\n",
    "            \"user\": f\"I'm interested in a product with a rate of {row['couponRate']} and frequency of {row['couponFrequency']}.\",\n",
    "            \"bot\": f\"This product falls under the '{row['type']}' category.\"\n",
    "        }\n"
   ]
  },
  {
   "cell_type": "code",
   "execution_count": 22,
   "id": "5c529793",
   "metadata": {},
   "outputs": [
    {
     "data": {
      "text/plain": [
       "[{'user': \"I'm interested in a product with a rate of 5.0 and frequency of annual.\",\n",
       "  'bot': \"This product falls under the 'phoenix' category.\"},\n",
       " {'user': \"I'm interested in a product with a rate of 5.0 and frequency of annual.\",\n",
       "  'bot': \"This product falls under the 'revcon' category.\"},\n",
       " {'user': \"I'm interested in a product with a rate of 7.9 and frequency of annual.\",\n",
       "  'bot': \"This product falls under the 'phoenix' category.\"},\n",
       " {'user': \"I'm interested in a product with a rate of 7.9 and frequency of annual.\",\n",
       "  'bot': \"This product falls under the 'revcon' category.\"},\n",
       " {'user': \"I'm interested in a product with a rate of 6.0 and frequency of monthly.\",\n",
       "  'bot': \"This product falls under the 'phoenix' category.\"},\n",
       " {'user': \"I'm interested in a product with a rate of 4.5 and frequency of quarterly.\",\n",
       "  'bot': \"This product falls under the 'phoenix' category.\"},\n",
       " {'user': \"I'm interested in a product with a rate of 5.4 and frequency of quarterly.\",\n",
       "  'bot': \"This product falls under the 'revcon' category.\"},\n",
       " {'user': \"I'm interested in a product with a rate of 6.0 and frequency of annual.\",\n",
       "  'bot': \"This product falls under the 'phoenix' category.\"},\n",
       " {'user': \"I'm interested in a product with a rate of 6.3 and frequency of bi-annual.\",\n",
       "  'bot': \"This product falls under the 'phoenix' category.\"},\n",
       " {'user': \"I'm looking for a product but don't have all the details.\",\n",
       "  'bot': 'Could you provide more details on the couponRate?'},\n",
       " {'user': \"I'm interested in a product with a rate of 4.6 and frequency of quarterly.\",\n",
       "  'bot': \"This product falls under the 'revcon' category.\"},\n",
       " {'user': \"I'm interested in a product with a rate of 3.5 and frequency of monthly.\",\n",
       "  'bot': \"This product falls under the 'phoenix' category.\"},\n",
       " {'user': \"I'm interested in a product with a rate of 9.0 and frequency of annual.\",\n",
       "  'bot': \"This product falls under the 'phoenix' category.\"},\n",
       " {'user': \"I'm interested in a product with a rate of 1.4 and frequency of weekly.\",\n",
       "  'bot': \"This product falls under the 'phoenix' category.\"},\n",
       " {'user': \"I'm interested in a product with a rate of 5.3 and frequency of quarterly.\",\n",
       "  'bot': \"This product falls under the 'phoenix' category.\"},\n",
       " {'user': \"I'm interested in a product with a rate of 5.2 and frequency of quarterly.\",\n",
       "  'bot': \"This product falls under the 'revcon' category.\"},\n",
       " {'user': \"I'm looking for a product but don't have all the details.\",\n",
       "  'bot': 'Could you provide more details on the couponRate?'},\n",
       " {'user': \"I'm interested in a product with a rate of 2.2 and frequency of monthly.\",\n",
       "  'bot': \"This product falls under the 'revcon' category.\"},\n",
       " {'user': \"I'm interested in a product with a rate of 1.1 and frequency of weekly.\",\n",
       "  'bot': \"This product falls under the 'revcon' category.\"},\n",
       " {'user': \"I'm interested in a product with a rate of 2.3 and frequency of monthly.\",\n",
       "  'bot': \"This product falls under the 'revcon' category.\"},\n",
       " {'user': \"I'm interested in a product with a rate of 3.8 and frequency of quarterly.\",\n",
       "  'bot': \"This product falls under the 'revcon' category.\"},\n",
       " {'user': \"I'm interested in a product with a rate of 3.8 and frequency of quarterly.\",\n",
       "  'bot': \"This product falls under the 'revcon' category.\"},\n",
       " {'user': \"I'm interested in a product with a rate of 8.6 and frequency of annual.\",\n",
       "  'bot': \"This product falls under the 'revcon' category.\"},\n",
       " {'user': \"I'm interested in a product with a rate of 8.6 and frequency of annual.\",\n",
       "  'bot': \"This product falls under the 'revcon' category.\"},\n",
       " {'user': \"I'm looking for a product but don't have all the details.\",\n",
       "  'bot': 'Could you provide more details on the couponRate?'}]"
      ]
     },
     "execution_count": 22,
     "metadata": {},
     "output_type": "execute_result"
    }
   ],
   "source": [
    "# Assume 'final_dataset' is your merged DataFrame ready for dialogue generation\n",
    "enhanced_dialogues = [create_dialogue_with_followups(row) for _, row in final_dataset.iterrows()]\n",
    "enhanced_dialogues"
   ]
  },
  {
   "cell_type": "code",
   "execution_count": 23,
   "id": "a0c6861e",
   "metadata": {},
   "outputs": [
    {
     "name": "stdout",
     "output_type": "stream",
     "text": [
      "Enhanced dialogues have been saved to enhanced_training_data.json.\n"
     ]
    }
   ],
   "source": [
    "# Export Final Dialogues:\n",
    "import json\n",
    "\n",
    "with open('../data/enhanced_training_data.json', 'w') as file:\n",
    "    json.dump(enhanced_dialogues, file, indent=4)\n",
    "\n",
    "print(\"Enhanced dialogues have been saved to enhanced_training_data.json.\")\n"
   ]
  },
  {
   "cell_type": "markdown",
   "id": "b08b381b",
   "metadata": {},
   "source": [
    "# Model Train and Test"
   ]
  },
  {
   "cell_type": "code",
   "execution_count": 24,
   "id": "950a0d7c",
   "metadata": {},
   "outputs": [],
   "source": [
    "from sklearn.model_selection import train_test_split\n",
    "\n",
    "# Assuming 'enhanced_dialogues' is loaded from 'enhanced_training_data.json'\n",
    "train_val, test = train_test_split(enhanced_dialogues, test_size=0.1, random_state=42)\n",
    "train, val = train_test_split(train_val, test_size=0.1, random_state=42)\n"
   ]
  },
  {
   "cell_type": "code",
   "execution_count": 25,
   "id": "8bf975e1",
   "metadata": {},
   "outputs": [
    {
     "ename": "NameError",
     "evalue": "name 'YourModel' is not defined",
     "output_type": "error",
     "traceback": [
      "\u001b[1;31m---------------------------------------------------------------------------\u001b[0m",
      "\u001b[1;31mNameError\u001b[0m                                 Traceback (most recent call last)",
      "Cell \u001b[1;32mIn[25], line 2\u001b[0m\n\u001b[0;32m      1\u001b[0m \u001b[38;5;66;03m# This is a placeholder example for training a model with PyTorch or TensorFlow\u001b[39;00m\n\u001b[1;32m----> 2\u001b[0m model \u001b[38;5;241m=\u001b[39m YourModel()  \u001b[38;5;66;03m# This would be your LLaMA or similar model\u001b[39;00m\n\u001b[0;32m      3\u001b[0m optimizer \u001b[38;5;241m=\u001b[39m \u001b[38;5;241m.\u001b[39m\u001b[38;5;241m.\u001b[39m\u001b[38;5;241m.\u001b[39m  \u001b[38;5;66;03m# Choose an optimizer\u001b[39;00m\n\u001b[0;32m      4\u001b[0m loss_function \u001b[38;5;241m=\u001b[39m \u001b[38;5;241m.\u001b[39m\u001b[38;5;241m.\u001b[39m\u001b[38;5;241m.\u001b[39m  \u001b[38;5;66;03m# Define a loss function\u001b[39;00m\n",
      "\u001b[1;31mNameError\u001b[0m: name 'YourModel' is not defined"
     ]
    }
   ],
   "source": [
    "# This is a placeholder example for training a model with PyTorch or TensorFlow\n",
    "model = YourModel()  # This would be your LLaMA or similar model\n",
    "optimizer = ...  # Choose an optimizer\n",
    "loss_function = ...  # Define a loss function\n",
    "\n",
    "for epoch in range(num_epochs):\n",
    "    for dialogues in train_loader:  # You'd create a DataLoader or equivalent for your dataset\n",
    "        predictions = model(dialogues)\n",
    "        loss = loss_function(predictions, labels)\n",
    "        optimizer.zero_grad()\n",
    "        loss.backward()\n",
    "        optimizer.step()\n",
    "    # Evaluate on validation set\n"
   ]
  },
  {
   "cell_type": "code",
   "execution_count": 20,
   "id": "eaa190be",
   "metadata": {},
   "outputs": [],
   "source": [
    "# # Download Notebook as PDF\n",
    "# !jupyter nbconvert --to pdf WSD-Assessment.ipynb"
   ]
  }
 ],
 "metadata": {
  "kernelspec": {
   "display_name": "Python 3 (ipykernel)",
   "language": "python",
   "name": "python3"
  },
  "language_info": {
   "codemirror_mode": {
    "name": "ipython",
    "version": 3
   },
   "file_extension": ".py",
   "mimetype": "text/x-python",
   "name": "python",
   "nbconvert_exporter": "python",
   "pygments_lexer": "ipython3",
   "version": "3.11.5"
  }
 },
 "nbformat": 4,
 "nbformat_minor": 5
}
